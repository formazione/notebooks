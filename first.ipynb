{
 "cells": [
  {
   "cell_type": "code",
   "execution_count": 1,
   "metadata": {},
   "outputs": [],
   "source": [
    "# Smobilizzo\n",
    "\n",
    "testo = \"\"\"\n",
    "Un'impresa ottiene\n",
    "un fido di 100.000 euro\n",
    "utilizzabile per metà come anticipo su portafoglio sbf\n",
    "e per l'altra metà come factoring con accredito anticipato al 75%.\n",
    "Il 22/06 presenta alla banca:\n",
    "- ri.ba. di 28.400 euro scadente il 31/08\n",
    "- ri.ba. di 10.070 scadente il 15/09\n",
    "- fattura n. 58 di 22.900 euro + IVA ad aliquota ridotta con scadenza a 30 giorni. Questa fattura\n",
    "emessa il 20/06, contiene anche lo sconto incodizionato del 10% e interessi di dilazione al 6,50%.\n",
    "La banca anticipa l'importo delle ri.ba. e della fattura, commissioni 10 euro per effetto,\n",
    "commissioni di factoring 1,40% del valore nominale dei crediti ceduti.\n",
    "Presenta:\n",
    "- la parte tabellare della fattura n. 58\n",
    "- il calcolo della somma netta incassata dall'impresa il 22/06\n",
    "\n",
    "Fattura\n",
    "----------------------------------------\n",
    "Prodotti venduti\n",
    "- sconto incondizionato 10%\n",
    "Base imponibile\n",
    "IVA 10%\n",
    "Importo con IVA\n",
    "interessi di dilazione\n",
    "Totale fattura\n",
    "------------------------------------------\n",
    "\n",
    "\"\"\"\n",
    "\n"
   ]
  },
  {
   "cell_type": "code",
   "execution_count": 4,
   "metadata": {},
   "outputs": [
    {
     "name": "stdout",
     "output_type": "stream",
     "text": [
      "Commissione netta\n",
      "36124.22\n",
      "\n",
      "Un'impresa ha un fido di 50000.\n",
      "Presenta allo sconto i seguenti effetti:\n",
      "pagherò di 8940\n",
      "tratta di 27750\n",
      "\n",
      "La banca concede lo sconto degli effetti addebitando sconti passivi per 547.78 €.\n",
      "Addebita anche commissioni per 18 € per ogni effetto.\n",
      "\n",
      "Presenta la somma netta incassata dall'impresa al momento della concessione dello sconto delle cambiali.\n",
      "\n",
      "soluzione = 36124.22\n",
      "\n"
     ]
    }
   ],
   "source": [
    "# fido: massimo importo del credito\n",
    "fido = 50000\n",
    "\n",
    "# effetti\n",
    "pag = 8940\n",
    "tra = 27750\n",
    "\n",
    "# ======== Cosa si trattiene la banca sugli effetti =======================\n",
    "# togliere gli sconti passivi (interessi non maturati)\n",
    "sconti = 547.78\n",
    "# commissioni per ogni effetto (sono due, quindi 18)\n",
    "comm = 9*2\n",
    "\n",
    "################## Calcola somma netta ##############\n",
    "netta = pag + tra - sconti - comm\n",
    "print(\"Commissione netta\")\n",
    "print(netta)\n",
    "\n",
    "print(\n",
    "f\"\"\"\n",
    "Un'impresa ha un fido di {fido}.\n",
    "Presenta allo sconto i seguenti effetti:\n",
    "pagherò di {pag}\n",
    "tratta di {tra}\n",
    "\n",
    "La banca concede lo sconto degli effetti addebitando sconti passivi per {sconti} €.\n",
    "Addebita anche commissioni per {comm} € per ogni effetto.\n",
    "\n",
    "Presenta la somma netta incassata dall'impresa al momento della concessione dello sconto delle cambiali.\n",
    "\n",
    "soluzione = {netta}\n",
    "\"\"\")\n"
   ]
  },
  {
   "cell_type": "code",
   "execution_count": 10,
   "metadata": {},
   "outputs": [
    {
     "name": "stdout",
     "output_type": "stream",
     "text": [
      "Un'impresa ha un fido di 40000. Presenta allo sconto i seguenti effetti: pagherò di 8000 €, tratta di 20000 €.\n",
      "La banca concede lo sconto degli effetti addebitando sconti passivi per 700 €. Addebita anche commissioni per 10 € per ogni effetto.\n",
      "Presenta la somma netta incassata dall'impresa al momento della concessione dello sconto delle cambiali.\n",
      "(sol. = 27280 €)\n",
      "\n"
     ]
    }
   ],
   "source": [
    "# fido: massimo importo del credito\n",
    "fido = 40000\n",
    "pag = 8000\n",
    "tra = 20000\n",
    "sconti = 700\n",
    "comm = 10\n",
    "netta = pag + tra - sconti - comm*2\n",
    "print(f\"\"\"Un'impresa ha un fido di {fido}. Presenta allo sconto i seguenti effetti: pagherò di {pag} €, tratta di {tra} €.\"\"\")\n",
    "print(f\"\"\"La banca concede lo sconto degli effetti addebitando sconti passivi per {sconti} €. Addebita anche commissioni per {comm} € per ogni effetto.\n",
    "Presenta la somma netta incassata dall'impresa al momento della concessione dello sconto delle cambiali.\n",
    "(sol. = {netta} €)\n",
    "\"\"\")\n"
   ]
  },
  {
   "cell_type": "code",
   "execution_count": 12,
   "metadata": {},
   "outputs": [
    {
     "name": "stdout",
     "output_type": "stream",
     "text": [
      "Un'impresa ha un fido di 60000. Presenta allo sconto i seguenti effetti: pagherò di 7000 €, tratta di 6000 €.\n",
      "La banca concede lo sconto degli effetti addebitando sconti passivi per 400 €. Addebita anche commissioni per 5 € per ogni effetto.\n",
      "    Presenta la somma netta incassata dall'impresa al momento della concessione dello sconto delle cambiali.\n",
      "    (sol. = 12590 €)\n",
      "    \n",
      "Un'impresa ha un fido di 50000. Presenta allo sconto i seguenti effetti: pagherò di 6000 €, tratta di 6000 €.\n",
      "La banca concede lo sconto degli effetti addebitando sconti passivi per 300 €. Addebita anche commissioni per 7 € per ogni effetto.\n",
      "    Presenta la somma netta incassata dall'impresa al momento della concessione dello sconto delle cambiali.\n",
      "    (sol. = 11686 €)\n",
      "    \n",
      "Un'impresa ha un fido di 60000. Presenta allo sconto i seguenti effetti: pagherò di 9000 €, tratta di 9000 €.\n",
      "La banca concede lo sconto degli effetti addebitando sconti passivi per 200 €. Addebita anche commissioni per 9 € per ogni effetto.\n",
      "    Presenta la somma netta incassata dall'impresa al momento della concessione dello sconto delle cambiali.\n",
      "    (sol. = 17782 €)\n",
      "    \n",
      "Un'impresa ha un fido di 60000. Presenta allo sconto i seguenti effetti: pagherò di 9000 €, tratta di 2000 €.\n",
      "La banca concede lo sconto degli effetti addebitando sconti passivi per 300 €. Addebita anche commissioni per 7 € per ogni effetto.\n",
      "    Presenta la somma netta incassata dall'impresa al momento della concessione dello sconto delle cambiali.\n",
      "    (sol. = 10686 €)\n",
      "    \n",
      "Un'impresa ha un fido di 40000. Presenta allo sconto i seguenti effetti: pagherò di 2000 €, tratta di 4000 €.\n",
      "La banca concede lo sconto degli effetti addebitando sconti passivi per 300 €. Addebita anche commissioni per 8 € per ogni effetto.\n",
      "    Presenta la somma netta incassata dall'impresa al momento della concessione dello sconto delle cambiali.\n",
      "    (sol. = 5684 €)\n",
      "    \n"
     ]
    }
   ],
   "source": [
    "# fido: massimo importo del credito\n",
    "from random import randrange\n",
    "\n",
    "def es():\n",
    "    fido, paghero, tratta, sconti, commissione = randrange(40000,70000,10000), randrange(2000,10000,1000), randrange(2000,10000,1000), randrange(200,500,100), randrange(5,10,1)\n",
    "    netta = paghero + tratta - sconti - commissione*2\n",
    "    print(f\"\"\"Un'impresa ha un fido di {fido}. Presenta allo sconto i seguenti effetti: pagherò di {paghero} €, tratta di {tratta} €.\"\"\")\n",
    "    print(f\"\"\"La banca concede lo sconto degli effetti addebitando sconti passivi per {sconti} €. Addebita anche commissioni per {commissione} € per ogni effetto.\n",
    "    Presenta la somma netta incassata dall'impresa al momento della concessione dello sconto delle cambiali.\n",
    "    (sol. = {netta} €)\n",
    "    \"\"\")\n",
    "\n",
    "    \n",
    "for n in range(5):\n",
    "    es()"
   ]
  },
  {
   "cell_type": "code",
   "execution_count": 11,
   "metadata": {},
   "outputs": [
    {
     "name": "stdout",
     "output_type": "stream",
     "text": [
      "Un'impresa ha un fido di 60000. Presenta allo sconto i seguenti effetti: pagherò di 2000 €, tratta di 7000 €.\n",
      "La banca concede lo sconto degli effetti addebitando sconti passivi per 400 €. Addebita anche commissioni per 5 € per ogni effetto.\n",
      "    Presenta la somma netta incassata dall'impresa al momento della concessione dello sconto delle cambiali.\n",
      "    (sol. = 8590 €)\n",
      "    \n",
      "Un'impresa ha un fido di 40000. Presenta allo sconto i seguenti effetti: pagherò di 5000 €, tratta di 2000 €.\n",
      "La banca concede lo sconto degli effetti addebitando sconti passivi per 200 €. Addebita anche commissioni per 6 € per ogni effetto.\n",
      "    Presenta la somma netta incassata dall'impresa al momento della concessione dello sconto delle cambiali.\n",
      "    (sol. = 6788 €)\n",
      "    \n",
      "Un'impresa ha un fido di 50000. Presenta allo sconto i seguenti effetti: pagherò di 6000 €, tratta di 3000 €.\n",
      "La banca concede lo sconto degli effetti addebitando sconti passivi per 300 €. Addebita anche commissioni per 8 € per ogni effetto.\n",
      "    Presenta la somma netta incassata dall'impresa al momento della concessione dello sconto delle cambiali.\n",
      "    (sol. = 8684 €)\n",
      "    \n",
      "Un'impresa ha un fido di 40000. Presenta allo sconto i seguenti effetti: pagherò di 7000 €, tratta di 6000 €.\n",
      "La banca concede lo sconto degli effetti addebitando sconti passivi per 300 €. Addebita anche commissioni per 5 € per ogni effetto.\n",
      "    Presenta la somma netta incassata dall'impresa al momento della concessione dello sconto delle cambiali.\n",
      "    (sol. = 12690 €)\n",
      "    \n",
      "Un'impresa ha un fido di 40000. Presenta allo sconto i seguenti effetti: pagherò di 5000 €, tratta di 4000 €.\n",
      "La banca concede lo sconto degli effetti addebitando sconti passivi per 200 €. Addebita anche commissioni per 8 € per ogni effetto.\n",
      "    Presenta la somma netta incassata dall'impresa al momento della concessione dello sconto delle cambiali.\n",
      "    (sol. = 8784 €)\n",
      "    \n"
     ]
    }
   ],
   "source": [
    "# fido: massimo importo del credito\n",
    "from random import randrange\n",
    "\n",
    "def es():\n",
    "    fido, paghero, tratta, sconti, commissione = randrange(40000,70000,10000), randrange(2000,10000,1000), randrange(2000,10000,1000), randrange(200,500,100), randrange(5,10,1)\n",
    "    netta = paghero + tratta - sconti - commissione*2\n",
    "    print(f\"\"\"A bank can  {fido}. Presenta allo sconto i seguenti effetti: pagherò di {paghero} €, tratta di {tratta} €.\"\"\")\n",
    "    print(f\"\"\"La banca concede lo sconto degli effetti addebitando sconti passivi per {sconti} €. Addebita anche commissioni per {commissione} € per ogni effetto.\n",
    "    Presenta la somma netta incassata dall'impresa al momento della concessione dello sconto delle cambiali.\n",
    "    (sol. = {netta} €)\n",
    "    \"\"\")\n",
    "\n",
    "    \n",
    "for n in range(5):\n",
    "    es()"
   ]
  }
 ],
 "metadata": {
  "kernelspec": {
   "display_name": "Python 3",
   "language": "python",
   "name": "python3"
  },
  "language_info": {
   "codemirror_mode": {
    "name": "ipython",
    "version": 3
   },
   "file_extension": ".py",
   "mimetype": "text/x-python",
   "name": "python",
   "nbconvert_exporter": "python",
   "pygments_lexer": "ipython3",
   "version": "3.7.3"
  }
 },
 "nbformat": 4,
 "nbformat_minor": 4
}
